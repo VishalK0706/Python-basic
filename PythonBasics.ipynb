{
  "cells": [
    {
      "cell_type": "markdown",
      "metadata": {
        "id": "mtfn4a97sg_p"
      },
      "source": [
        "01.What is Python, and why it is popular?\n",
        "  >>Python is a versatile, high-level programming language known for its simple syntax and readability.\n",
        "                      It's popular for web development, data analysis, automation, and AI, supported by extensive libraries and a strong community."
      ]
    },
    {
      "cell_type": "markdown",
      "metadata": {
        "id": "KD1yLKVMwnMp"
      },
      "source": [
        "02.What is an interpreter  in python?\n",
        "  >>An interpreter in Python executes code directly by translating it into bytecode, which the Python Virtual Machine processses line by line, enabling immediate execution and runtime error checking."
      ]
    },
    {
      "cell_type": "markdown",
      "metadata": {
        "id": "EXVEuWf-VHsP"
      },
      "source": [
        "03.What are pre-defined keywords in Python?\n",
        "  >>Pre-defined keywords in Python are reserved words with specific meanings that cannot be used as identifiers. As of Python 3, there are 35 keywords, including:\n",
        "\n",
        "\n",
        "*   True, False, None\n",
        "*   def, class\n",
        "*   if, else, elif\n",
        "*   for, while, break, continue\n",
        "*   import, from\n",
        "*   try, except, finally\n",
        "*   and, or, not\n",
        "\n",
        "\n",
        "\n",
        "\n",
        "\n",
        "\n"
      ]
    },
    {
      "cell_type": "markdown",
      "metadata": {
        "id": "v3y2aPTUvbum"
      },
      "source": [
        "04.Can keywords be used as variable names?\n",
        "  >>Keywords in Python cannont be used as variable names, as they are reserved words defining the language's syntax. Using them as identifiers will result in a syntax error.\n",
        "  \n"
      ]
    },
    {
      "cell_type": "markdown",
      "metadata": {
        "id": "Xl1fzgGYdTkP"
      },
      "source": [
        "05.What is Mutability in python?\n",
        "  >>Mutability in Python refers to whether an object can be changed after creation. Mutable objects, like lists and dictionaries, can be changed, while immutable objects like strings and tuples cannot be changed."
      ]
    },
    {
      "cell_type": "markdown",
      "metadata": {
        "id": "CeReDhMtdTgy"
      },
      "source": [
        "06.What are the lists mutable, but tuples are immutable?\n",
        "  >>In Python, lists are mutable, allowing you to change their contents by adding, removing, or modifying elements. Tuples, however, are immutable, meaning once they are created, their contents cannot be changed, making them suitable for fixed collections of items."
      ]
    },
    {
      "cell_type": "markdown",
      "metadata": {
        "id": "vsAircOOdTek"
      },
      "source": [
        "07.What are the difference between \"==\" and \"is\" operator in python?\n",
        "  >>In Python, the '==' operator checks if two objects have equal values, meaning their contents are the same. The 'is' operator, checks if two variables reference the same objects in memory."
      ]
    },
    {
      "cell_type": "markdown",
      "metadata": {
        "id": "x3TsaIP9dTZl"
      },
      "source": [
        "08.What are logical operation in python?\n",
        "  >>In Python, logical operators are essential for combining multiple conditions and evaluating them as boolean expressions. There are three primary logical operators: and, or, and not. Each operator serves a specific purpose in controlling the flow of logic within a program."
      ]
    },
    {
      "cell_type": "markdown",
      "metadata": {
        "id": "vt9w3XiUdTWM"
      },
      "source": [
        "09.What is type casting in Python?\n",
        "  >>Type casting in Python, also known as type conversion, is the process of converting a variable from one data type to another. This is essential when you need to perform operations on different data types or when you want to ensure that your data is in the correct format for processing."
      ]
    },
    {
      "cell_type": "markdown",
      "metadata": {
        "id": "4FeX5-M4dTTn"
      },
      "source": [
        "10.What are the difference between implicit and explicit type casting?\n",
        "  >>Implicit type casting occurs automatically when Python converts one data type to another, like an integer to a float during arithmetic operations. Explicit type casting requires the programmer to manually convert types using functions like int() or float(), allowing for precise control but potentially leading to data loss."
      ]
    },
    {
      "cell_type": "markdown",
      "metadata": {
        "id": "yN-rd5KudTRb"
      },
      "source": [
        "11.What are the purpose of conditional statements in python?\n",
        "  >>Conditional statements in Python enable decision-making by allowing the program to execute specific actions based on conditions. They control the flow of execution with constructs like if, else, and elif, facilitating dynamic behavior, handling errors, and ensuring responsive programming by adapting to various scenarios and inputs."
      ]
    },
    {
      "cell_type": "markdown",
      "metadata": {
        "id": "4R5gkmNqdTOb"
      },
      "source": [
        "12.How does the elif statement works?\n",
        "  >>The elif statement in Python allows checking multiple conditions after an if. If the if condition is false, it evaluates each elif condition in order. If none are true, the optional else block executes, enabling organized decision-making in code."
      ]
    },
    {
      "cell_type": "markdown",
      "metadata": {
        "id": "MoBvUDRTdTBI"
      },
      "source": [
        "13.What are the difference between for and while loops?\n",
        "  >>For loops are used for a known number of iterations, iterating over sequences like lists or ranges. In contrast, while loops execute as long as a condition is true, offering flexibility but requiring careful management to avoid infinite loops."
      ]
    },
    {
      "cell_type": "markdown",
      "metadata": {
        "id": "0RajXddY4xkc"
      },
      "source": [
        "14.Describr a scenario where a while loop is more suitable than a for loop?\n",
        "  >>A scenario where a while loop is more suitable than a for loop is when continuously prompting a user for valid input until they provide it. For instance, in a program that asks for a password, you can use a while loop to keep asking the user until they enter the correct password. This approach allows for an indefinite number of attempts, making it flexible and user-friendly."
      ]
    },
    {
      "cell_type": "markdown",
      "metadata": {
        "id": "vrk49Ui96C_o"
      },
      "source": [
        "                                                 PRACTICAL QUESTIONS                                                                 "
      ]
    },
    {
      "cell_type": "code",
      "execution_count": null,
      "metadata": {
        "colab": {
          "base_uri": "https://localhost:8080/"
        },
        "id": "kdfKhPQ_50zT",
        "outputId": "e0da0a9b-b635-4087-a343-765795087dcc"
      },
      "outputs": [
        {
          "name": "stdout",
          "output_type": "stream",
          "text": [
            "Hello, world!\n"
          ]
        }
      ],
      "source": [
        "#01. Write a Python program to print \"Hello, world!\" ?\n",
        "print(\"Hello, world!\")"
      ]
    },
    {
      "cell_type": "code",
      "execution_count": null,
      "metadata": {
        "colab": {
          "base_uri": "https://localhost:8080/"
        },
        "id": "2brm4aMg6oTG",
        "outputId": "2d430d72-2844-4b32-e66d-b73503980e79"
      },
      "outputs": [
        {
          "name": "stdout",
          "output_type": "stream",
          "text": [
            "Please enter your name: VISHAL\n",
            "Please enter your age: 22\n",
            "Hello, VISHAL! You are 22 years old.\n"
          ]
        }
      ],
      "source": [
        "#02. Write a Python program that display your name and age ?\n",
        "# Get user's name\n",
        "name = input(\"Please enter your name: \")\n",
        "\n",
        "# Get user's age with validation\n",
        "while True:\n",
        "    age = input(\"Please enter your age: \")\n",
        "    if age.isdigit() and int(age) > 0:\n",
        "        age = int(age)\n",
        "        break\n",
        "    else:\n",
        "        print(\"Please enter a valid positive number for your age.\")\n",
        "\n",
        "# Display the message\n",
        "print(f\"Hello, {name}! You are {age} years old.\")\n"
      ]
    },
    {
      "cell_type": "code",
      "execution_count": null,
      "metadata": {
        "colab": {
          "base_uri": "https://localhost:8080/"
        },
        "id": "xHQmo3VG9IBV",
        "outputId": "effb5eef-adbf-49ec-adad-2bcc73cb1ad0"
      },
      "outputs": [
        {
          "name": "stdout",
          "output_type": "stream",
          "text": [
            "Pre-defined keywords in Python:\n",
            "False\n",
            "None\n",
            "True\n",
            "and\n",
            "as\n",
            "assert\n",
            "async\n",
            "await\n",
            "break\n",
            "class\n",
            "continue\n",
            "def\n",
            "del\n",
            "elif\n",
            "else\n",
            "except\n",
            "finally\n",
            "for\n",
            "from\n",
            "global\n",
            "if\n",
            "import\n",
            "in\n",
            "is\n",
            "lambda\n",
            "nonlocal\n",
            "not\n",
            "or\n",
            "pass\n",
            "raise\n",
            "return\n",
            "try\n",
            "while\n",
            "with\n",
            "yield\n"
          ]
        }
      ],
      "source": [
        "#03. Write code to print all the pre-defined keywords in Python using the keywords library ?\n",
        "import keyword\n",
        "\n",
        "# Get the list of all Python keywords\n",
        "all_keywords = keyword.kwlist\n",
        "\n",
        "# Print the list of keywords\n",
        "print(\"Pre-defined keywords in Python:\")\n",
        "for keyword in all_keywords:\n",
        "    print(keyword)"
      ]
    },
    {
      "cell_type": "code",
      "execution_count": null,
      "metadata": {
        "colab": {
          "base_uri": "https://localhost:8080/"
        },
        "id": "WLN14i1t-D8m",
        "outputId": "b4ce8a2d-3997-4006-ab07-80a087e375a3"
      },
      "outputs": [
        {
          "name": "stdout",
          "output_type": "stream",
          "text": [
            "Enter a word to check if it is a Python keyword: VISHAL\n",
            "\"VISHAL\" is not a Python keyword.\n"
          ]
        }
      ],
      "source": [
        "#04. Write a program that checks if a given words is a python keywords ?\n",
        "import keyword\n",
        "\n",
        "# Function to check if the input word is a Python keyword\n",
        "def check_keyword(word):\n",
        "    if keyword.iskeyword(word):\n",
        "        return f'\"{word}\" is a Python keyword.'\n",
        "    else:\n",
        "        return f'\"{word}\" is not a Python keyword.'\n",
        "\n",
        "# Example usage\n",
        "word_to_check = input(\"Enter a word to check if it is a Python keyword: \")\n",
        "result = check_keyword(word_to_check)\n",
        "print(result)"
      ]
    },
    {
      "cell_type": "code",
      "execution_count": null,
      "metadata": {
        "colab": {
          "base_uri": "https://localhost:8080/"
        },
        "id": "a5OpNatsCz7R",
        "outputId": "5f663031-6d2b-42cb-ce06-9d38eeb54c03"
      },
      "outputs": [
        {
          "name": "stdout",
          "output_type": "stream",
          "text": [
            "Original List of Fruits: ['Apple', 'Banana', 'Cherry']\n",
            "Modified List of Fruits: ['Apple', 'Mango', 'Cherry']\n",
            "\n",
            "Original Tuple of Colors: ('Red', 'Green', 'Blue')\n",
            "Error: 'tuple' object does not support item assignment\n"
          ]
        }
      ],
      "source": [
        "#05. Creat a lists and tuples in python, and demonstrate how attempting to change an element work differently for each ?\n",
        "# Creating a list of fruits (mutable)\n",
        "fruits_list = [\"Apple\", \"Banana\", \"Cherry\"]\n",
        "print(\"Original List of Fruits:\", fruits_list)\n",
        "\n",
        "# Attempting to change an element in the list\n",
        "fruits_list[1] = \"Mango\"  # Changing \"Banana\" to \"Mango\"\n",
        "print(\"Modified List of Fruits:\", fruits_list)\n",
        "\n",
        "# Creating a tuple of colors (immutable)\n",
        "colors_tuple = (\"Red\", \"Green\", \"Blue\")\n",
        "print(\"\\nOriginal Tuple of Colors:\", colors_tuple)\n",
        "\n",
        "# Attempting to change an element in the tuple\n",
        "try:\n",
        "    colors_tuple[1] = \"Yellow\"  # This will raise an error\n",
        "except TypeError as e:\n",
        "    print(\"Error:\", e)\n"
      ]
    },
    {
      "cell_type": "markdown",
      "metadata": {
        "id": "5Rtol-jZJEhc"
      },
      "source": [
        "  EXPLANATION:\n",
        "  #List Creation: We create a list called fruits_list containing three fruit names. Lists are mutable, allowing changes to their contents.\n",
        "  #Modifying the List: We change the second element from \"Banana\" to \"Mango\" and print the modified list.\n",
        "  #Tuple Creation: We create a tuple called colors_tuple containing three color names. Tuples are immutable, meaning their contents cannot be changed.\n",
        "  #Attempting to Modify the Tuple: The program tries to change the second element from \"Green\" to \"Yellow,\" which raises a TypeError. This error is caught and printed"
      ]
    },
    {
      "cell_type": "code",
      "execution_count": null,
      "metadata": {
        "colab": {
          "base_uri": "https://localhost:8080/"
        },
        "id": "FI_-SGuHGzkB",
        "outputId": "6b1d0ed1-2421-4561-b4ff-93d98e41dae1"
      },
      "outputs": [
        {
          "name": "stdout",
          "output_type": "stream",
          "text": [
            "Before modification:\n",
            "Mutable argument (list): [1, 2, 3]\n",
            "Immutable argument (int): 5\n",
            "\n",
            "After modifying the mutable argument:\n",
            "Mutable argument (list): [1, 2, 3, 100]\n",
            "\n",
            "After attempting to modify the immutable argument:\n",
            "Immutable argument (int): 15\n",
            "\n",
            "Outside the function:\n",
            "Original list: [1, 2, 3, 100]\n",
            "Original number: 5\n"
          ]
        }
      ],
      "source": [
        "#06. Write a function to demonstrate a function the behaviour of mutable and immutable arguments ?\n",
        "def demonstrate_mutability(mutable_arg, immutable_arg):\n",
        "    print(\"Before modification:\")\n",
        "    print(f\"Mutable argument (list): {mutable_arg}\")\n",
        "    print(f\"Immutable argument (int): {immutable_arg}\")\n",
        "\n",
        "    # Modifying the mutable argument\n",
        "    mutable_arg.append(100)\n",
        "    print(\"\\nAfter modifying the mutable argument:\")\n",
        "    print(f\"Mutable argument (list): {mutable_arg}\")\n",
        "\n",
        "    # Attempting to modify the immutable argument\n",
        "    immutable_arg += 10  # This creates a new integer object\n",
        "    print(\"\\nAfter attempting to modify the immutable argument:\")\n",
        "    print(f\"Immutable argument (int): {immutable_arg}\")\n",
        "\n",
        "# Example usage\n",
        "my_list = [1, 2, 3]\n",
        "my_number = 5\n",
        "\n",
        "demonstrate_mutability(my_list, my_number)\n",
        "\n",
        "# Checking the original variables after the function call\n",
        "print(\"\\nOutside the function:\")\n",
        "print(f\"Original list: {my_list}\")  # This will show the modified list\n",
        "print(f\"Original number: {my_number}\")  # This will remain unchanged\n"
      ]
    },
    {
      "cell_type": "markdown",
      "metadata": {
        "id": "nrBftCEtLqFx"
      },
      "source": [
        "Explanation:\n",
        "```\n",
        "01.Function Definition: The demonstrate_mutability function takes two parameters: mutable_arg (a list) and immutable_arg (an integer).\n",
        "02.Before Modification: It prints the values of both arguments before any modifications.\n",
        "03.Modifying Mutable Argument: The function appends 100 to the list, demonstrating that lists can be changed in place.\n",
        "04.Attempting to Modify Immutable Argument: It attempts to modify the integer by adding 10. However, this does not change the original integer; instead, it creates a new integer object.\n",
        "05.Example Usage: We create a list and an integer, then call the function with these arguments.\n",
        "06.Outside Check: Finally, we print the original variables after the function call to see how they have changed.\n"
      ]
    },
    {
      "cell_type": "code",
      "execution_count": null,
      "metadata": {
        "id": "Fwu8rZG5Lrrm"
      },
      "outputs": [],
      "source": [
        "#Q6 and Q7 ARE SAME"
      ]
    },
    {
      "cell_type": "code",
      "execution_count": null,
      "metadata": {
        "colab": {
          "base_uri": "https://localhost:8080/"
        },
        "id": "JQLvGft8Ye0M",
        "outputId": "b9fa3b51-c1b1-4c9b-8d0c-0a556a5aebc8"
      },
      "outputs": [
        {
          "name": "stdout",
          "output_type": "stream",
          "text": [
            "Logical AND Operation:\n",
            "a: True, b: False\n",
            "a and b: False\n",
            "\n",
            "Logical OR Operation:\n",
            "a: True, b: False\n",
            "a or b: True\n",
            "\n",
            "Logical NOT Operation:\n",
            "a: True\n",
            "not a: False\n",
            "b: False\n",
            "not b: True\n"
          ]
        }
      ],
      "source": [
        "#08. Write a program to demonstrate the use of logical operations ?\n",
        "def demonstrate_logical_operations():\n",
        "    # Define some boolean variables\n",
        "    a = True\n",
        "    b = False\n",
        "\n",
        "    # Demonstrating the 'and' operator\n",
        "    print(\"Logical AND Operation:\")\n",
        "    print(f\"a: {a}, b: {b}\")\n",
        "    print(f\"a and b: {a and b}\")  # True only if both a and b are True\n",
        "\n",
        "    # Demonstrating the 'or' operator\n",
        "    print(\"\\nLogical OR Operation:\")\n",
        "    print(f\"a: {a}, b: {b}\")\n",
        "    print(f\"a or b: {a or b}\")  # True if at least one of a or b is True\n",
        "\n",
        "    # Demonstrating the 'not' operator\n",
        "    print(\"\\nLogical NOT Operation:\")\n",
        "    print(f\"a: {a}\")\n",
        "    print(f\"not a: {not a}\")  # Inverts the value of a\n",
        "    print(f\"b: {b}\")\n",
        "    print(f\"not b: {not b}\")  # Inverts the value of b\n",
        "\n",
        "# Call the function to demonstrate logical operations\n",
        "demonstrate_logical_operations()\n"
      ]
    },
    {
      "cell_type": "markdown",
      "metadata": {
        "id": "gC5R1lYsZI1a"
      },
      "source": [
        "Explanation:\n",
        "\n",
        "```\n",
        "1.Boolean Variables: The program defines two boolean variables, a (True) and b (False).\n",
        "2.Logical AND (and): The program checks the result of a and b. This operation returns True only if both a and b are True.\n",
        "3.Logical OR (or): The program checks the result of a or b. This operation returns True if at least one of a or b is True.\n",
        "4.Logical NOT (not): The program demonstrates how the not operator inverts the value of a boolean. It shows the results for both a and b.\n",
        "```"
      ]
    },
    {
      "cell_type": "code",
      "execution_count": null,
      "metadata": {
        "colab": {
          "base_uri": "https://localhost:8080/"
        },
        "id": "l_HT3OLmZCZ4",
        "outputId": "fb20950f-eb00-4b33-dd72-42466fa701c0"
      },
      "outputs": [
        {
          "name": "stdout",
          "output_type": "stream",
          "text": [
            "Enter a value: 22\n",
            "Converted to Integer: 22\n",
            "Converted to Float: 22.0\n",
            "Converted to Boolean: True\n"
          ]
        }
      ],
      "source": [
        "#09.Write a python program to convert user input from string to integer,floot and boolean type ?\n",
        "def convert_input():\n",
        "    # Get user input as a string\n",
        "    user_input = input(\"Enter a value: \")\n",
        "\n",
        "    # Convert to integer\n",
        "    try:\n",
        "        int_value = int(user_input)\n",
        "        print(f\"Converted to Integer: {int_value}\")\n",
        "    except ValueError:\n",
        "        print(\"Error: Cannot convert to Integer.\")\n",
        "\n",
        "    # Convert to float\n",
        "    try:\n",
        "        float_value = float(user_input)\n",
        "        print(f\"Converted to Float: {float_value}\")\n",
        "    except ValueError:\n",
        "        print(\"Error: Cannot convert to Float.\")\n",
        "\n",
        "    # Convert to boolean\n",
        "    # For boolean conversion, we consider non-empty strings as True and empty strings as False.\n",
        "    bool_value = bool(user_input)\n",
        "    print(f\"Converted to Boolean: {bool_value}\")\n",
        "\n",
        "# Call the function to perform conversions\n",
        "convert_input()\n"
      ]
    },
    {
      "cell_type": "markdown",
      "metadata": {
        "id": "GKWil-kVb7Y1"
      },
      "source": [
        "Explanation:\n",
        "```\n",
        "1.User Input: The program prompts the user to enter a value, which is captured as a string.\n",
        "2.Integer Conversion: It attempts to convert the input string to an integer using int(). If the conversion fails (e.g., if the input is not a valid integer), it catches the ValueError and prints an error message.\n",
        "3.Float Conversion: Similarly, it attempts to convert the input string to a float using float(). If this conversion fails, it also catches the ValueError and prints an error message.\n",
        "4.Boolean Conversion: The program converts the string to a boolean using bool(). In Python, any non-empty string is considered True, while an empty string is considered False.\n",
        "5.Output: The program prints the results of each conversion.\n",
        "```"
      ]
    },
    {
      "cell_type": "code",
      "execution_count": 5,
      "metadata": {
        "colab": {
          "base_uri": "https://localhost:8080/"
        },
        "id": "wA4_CAmAb4hq",
        "outputId": "c02bfb6e-e10c-493d-9d5a-6abfb3129e65"
      },
      "outputs": [
        {
          "name": "stdout",
          "output_type": "stream",
          "text": [
            "Original List of Strings: ['1', '2.5', '3', '4.0', 'True', 'False']\n",
            "Cannot convert '2.5' to Integer.\n",
            "Cannot convert '4.0' to Integer.\n",
            "Cannot convert 'True' to Integer.\n",
            "Cannot convert 'True' to Float.\n",
            "Cannot convert 'False' to Integer.\n",
            "Cannot convert 'False' to Float.\n",
            "\n",
            "Converted List of Integers: [1, 3]\n",
            "Converted List of Floats: [1.0, 2.5, 3.0, 4.0]\n",
            "\n",
            "Converted List of Booleans: [True, True, True, True, True, True]\n",
            "Converted Boolean List to Integers: [1, 1, 1, 1, 1, 1]\n"
          ]
        }
      ],
      "source": [
        "#10.Write a code to demonstrate type casting with list elements ?\n",
        "def demonstrate_type_casting():\n",
        "    # Original list of strings\n",
        "    string_list = [\"1\", \"2.5\", \"3\", \"4.0\", \"True\", \"False\"]\n",
        "    print(\"Original List of Strings:\", string_list)\n",
        "\n",
        "    # Convert strings to integers and floats\n",
        "    int_list = []\n",
        "    float_list = []\n",
        "\n",
        "    for item in string_list:\n",
        "        # Attempt to convert to integer\n",
        "        try:\n",
        "            int_value = int(item)\n",
        "            int_list.append(int_value)\n",
        "        except ValueError:\n",
        "            print(f\"Cannot convert '{item}' to Integer.\")\n",
        "\n",
        "        # Attempt to convert to float\n",
        "        try:\n",
        "            float_value = float(item)\n",
        "            float_list.append(float_value)\n",
        "        except ValueError:\n",
        "            print(f\"Cannot convert '{item}' to Float.\")\n",
        "\n",
        "    print(\"\\nConverted List of Integers:\", int_list)\n",
        "    print(\"Converted List of Floats:\", float_list)\n",
        "\n",
        "    # Demonstrating boolean conversion\n",
        "    boolean_list = [bool(item) for item in string_list]\n",
        "    print(\"\\nConverted List of Booleans:\", boolean_list)\n",
        "\n",
        "    # Converting boolean values to integers\n",
        "    int_from_bool = [int(b) for b in boolean_list]\n",
        "    print(\"Converted Boolean List to Integers:\", int_from_bool)\n",
        "\n",
        "# Call the function to demonstrate type casting\n",
        "demonstrate_type_casting()\n"
      ]
    },
    {
      "cell_type": "markdown",
      "metadata": {
        "id": "TCxMYLEdcsuo"
      },
      "source": [
        "Explanation:\n",
        "```\n",
        "1.Original List: The program starts with a list of strings that represent numbers and boolean values.\n",
        "2.Integer Conversion: It attempts to convert each string in the list to an integer using int(). If the conversion fails (e.g., for \"2.5\" or \"True\"), it catches the ValueError and prints an error message.\n",
        "3.Float Conversion: The program also attempts to convert each string to a float using float(). Similar error handling is implemented.\n",
        "4.Boolean Conversion: It converts each string in the original list to a boolean using bool(), where non-empty strings are considered True and empty strings are considered False.\n",
        "5.Boolean to Integer Conversion: Finally, it converts the boolean values back into integers, where True becomes 1 and False becomes 0.\n",
        "6.Output: The program prints the results of each conversion.\n",
        "```"
      ]
    },
    {
      "cell_type": "code",
      "execution_count": 9,
      "metadata": {
        "colab": {
          "base_uri": "https://localhost:8080/"
        },
        "id": "RxJIH7Cicq4r",
        "outputId": "2ed5510a-6921-4017-ae6a-0989b365cd85"
      },
      "outputs": [
        {
          "name": "stdout",
          "output_type": "stream",
          "text": [
            "Enter a number: 0\n",
            "The number is zero.\n"
          ]
        }
      ],
      "source": [
        "#11. Write a program that checks if a number is positive, negative or zero ?\n",
        "def check_number():\n",
        "    # Prompt the user for input\n",
        "    user_input = input(\"Enter a number: \")\n",
        "\n",
        "    try:\n",
        "        # Convert the input to a float\n",
        "        number = float(user_input)\n",
        "\n",
        "        # Check if the number is positive, negative, or zero\n",
        "        if number > 0:\n",
        "            print(f\"{number} is a positive number.\")\n",
        "        elif number < 0:\n",
        "            print(f\"{number} is a negative number.\")\n",
        "        else:\n",
        "            print(\"The number is zero.\")\n",
        "    except ValueError:\n",
        "        print(\"Invalid input. Please enter a valid number.\")\n",
        "\n",
        "# Call the function to perform the check\n",
        "check_number()\n"
      ]
    },
    {
      "cell_type": "markdown",
      "metadata": {
        "id": "WjS66twZi4NJ"
      },
      "source": [
        "Explanation:\n",
        "```\n",
        "1.User Input: The program prompts the user to enter a number.\n",
        "2.Input Conversion: It attempts to convert the input string to a float. This allows for both integer and decimal inputs.\n",
        "3.Conditional Checks:\n",
        "  > If the number is greater than zero, it prints that the number is positive.\n",
        "  > If the number is less than zero, it prints that the number is negative.\n",
        "  > If the number is exactly zero, it prints that the number is zero.\n",
        "4.Error Handling: If the conversion fails (e.g., if the user enters non-numeric input), it catches the ValueError and prints an error message.\n",
        "```\n"
      ]
    },
    {
      "cell_type": "code",
      "execution_count": 10,
      "metadata": {
        "colab": {
          "base_uri": "https://localhost:8080/"
        },
        "id": "WEwPc22NiNZA",
        "outputId": "41ab4711-1188-428b-8cee-6e01d84c38f5"
      },
      "outputs": [
        {
          "name": "stdout",
          "output_type": "stream",
          "text": [
            "1\n",
            "2\n",
            "3\n",
            "4\n",
            "5\n",
            "6\n",
            "7\n",
            "8\n",
            "9\n",
            "10\n"
          ]
        }
      ],
      "source": [
        "#12. Write a for loop to print number from 1 to 10 ?\n",
        "for number in range(1, 11):\n",
        "    print(number)\n"
      ]
    },
    {
      "cell_type": "code",
      "execution_count": 11,
      "metadata": {
        "colab": {
          "base_uri": "https://localhost:8080/"
        },
        "id": "el9P3ghvku9H",
        "outputId": "9eab1301-1c19-4b8f-f988-483d65a0a50f"
      },
      "outputs": [
        {
          "name": "stdout",
          "output_type": "stream",
          "text": [
            "The sum of all even numbers between 1 and 50 is: 650\n"
          ]
        }
      ],
      "source": [
        "#13. Write a python program to find the sum of all even numbers between 1 to 50 ?\n",
        "# Initialize the sum variable\n",
        "sum_of_evens = 0\n",
        "\n",
        "# Loop through numbers from 1 to 50\n",
        "for number in range(1, 51):\n",
        "    # Check if the number is even\n",
        "    if number % 2 == 0:\n",
        "        sum_of_evens += number  # Add even number to the sum\n",
        "\n",
        "# Print the result\n",
        "print(\"The sum of all even numbers between 1 and 50 is:\", sum_of_evens)\n"
      ]
    },
    {
      "cell_type": "markdown",
      "metadata": {
        "id": "3eOViATUmLpU"
      },
      "source": [
        "Explanation:\n",
        "```\n",
        "1.Sum Variable: The program initializes a variable sum_of_evens to store the cumulative sum of even numbers.\n",
        "2.Looping Through Numbers: It uses a for loop with range(1, 51) to iterate through numbers from 1 to 50.\n",
        "3.Checking for Even Numbers: Inside the loop, it checks if a number is even using the modulus operator (%). If number % 2 == 0, the number is even.\n",
        "4.Adding Even Numbers: If the number is even, it adds that number to sum_of_evens.\n",
        "5.Output: Finally, it prints the total sum of all even numbers.\n",
        "```"
      ]
    },
    {
      "cell_type": "code",
      "execution_count": 12,
      "metadata": {
        "colab": {
          "base_uri": "https://localhost:8080/"
        },
        "id": "cK7wbkJYljRf",
        "outputId": "a7563243-408c-448a-e84d-7fa38811ff71"
      },
      "outputs": [
        {
          "name": "stdout",
          "output_type": "stream",
          "text": [
            "Enter a string to reverse: 25\n",
            "Reversed String: 52\n"
          ]
        }
      ],
      "source": [
        "#14. Write a program to reverse a string using a while loop ?\n",
        "def reverse_string():\n",
        "    # Get user input\n",
        "    user_input = input(\"Enter a string to reverse: \")\n",
        "\n",
        "    # Initialize variables\n",
        "    reversed_string = \"\"\n",
        "    index = len(user_input) - 1  # Start from the last index of the string\n",
        "\n",
        "    # Use a while loop to reverse the string\n",
        "    while index >= 0:\n",
        "        reversed_string += user_input[index]  # Append the current character to the reversed string\n",
        "        index -= 1  # Move to the previous character\n",
        "\n",
        "    # Print the reversed string\n",
        "    print(\"Reversed String:\", reversed_string)\n",
        "\n",
        "# Call the function to execute\n",
        "reverse_string()\n"
      ]
    },
    {
      "cell_type": "markdown",
      "metadata": {
        "id": "lSu582lsmy_W"
      },
      "source": [
        "Explanation:\n",
        "```\n",
        "1.User Input: The program prompts the user to enter a string.\n",
        "2.Initialization: It initializes an empty string reversed_string to store the reversed version and sets index to the last character's index of the input string.\n",
        "3.While Loop: The loop continues as long as index is greater than or equal to 0:\n",
        "  >It appends the character at the current index of user_input to reversed_string.\n",
        "  >It then decrements index to move to the previous character.\n",
        "4.Output: After exiting the loop, it prints the reversed string.\n",
        "```"
      ]
    },
    {
      "cell_type": "code",
      "execution_count": 15,
      "metadata": {
        "colab": {
          "base_uri": "https://localhost:8080/"
        },
        "id": "q074dCigmq-L",
        "outputId": "4e151670-5d76-4aa3-eaf2-b1c4ff9384db"
      },
      "outputs": [
        {
          "name": "stdout",
          "output_type": "stream",
          "text": [
            "Enter a non-negative integer to calculate its factorial: 12\n",
            "The factorial of 12 is: 479001600\n"
          ]
        }
      ],
      "source": [
        "#15. Write a python program to calculate the factorial of a number provided by the user using a while loop ?\n",
        "def calculate_factorial():\n",
        "    # Get user input\n",
        "    number = int(input(\"Enter a non-negative integer to calculate its factorial: \"))\n",
        "\n",
        "    # Check for negative input\n",
        "    if number < 0:\n",
        "        print(\"Factorial is not defined for negative numbers.\")\n",
        "        return\n",
        "\n",
        "    # Initialize variables\n",
        "    factorial = 1\n",
        "    count = 1\n",
        "\n",
        "    # Calculate factorial using a while loop\n",
        "    while count <= number:\n",
        "        factorial *= count  # Multiply the current count to the factorial\n",
        "        count += 1  # Increment count\n",
        "\n",
        "    # Print the result\n",
        "    print(f\"The factorial of {number} is: {factorial}\")\n",
        "\n",
        "# Call the function to execute\n",
        "calculate_factorial()"
      ]
    },
    {
      "cell_type": "markdown",
      "metadata": {
        "id": "pF6Rflbiossp"
      },
      "source": [
        "Explanation:\n",
        "```\n",
        "1.User Input: The program prompts the user to enter a non-negative integer.\n",
        "2.Negative Check: It checks if the entered number is negative. If it is, it prints a message indicating that factorial is not defined for negative numbers and exits the function.\n",
        "3.Initialization: It initializes factorial to 1 (the multiplicative identity) and count to 1.\n",
        "4.While Loop: The loop continues as long as count is less than or equal to number:\n",
        "  > It multiplies factorial by count.\n",
        "  > It increments count by 1.\n",
        "5.Output: After exiting the loop, it prints the calculated factorial.\n",
        "```"
      ]
    },
    {
      "cell_type": "code",
      "execution_count": null,
      "metadata": {
        "id": "AnbXMLZCoT0P"
      },
      "outputs": [],
      "source": []
    }
  ],
  "metadata": {
    "colab": {
      "provenance": []
    },
    "kernelspec": {
      "display_name": "Python 3",
      "name": "python3"
    },
    "language_info": {
      "name": "python"
    }
  },
  "nbformat": 4,
  "nbformat_minor": 0
}
